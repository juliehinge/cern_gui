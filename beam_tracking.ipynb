{
 "cells": [
  {
   "cell_type": "code",
   "execution_count": 6,
   "metadata": {},
   "outputs": [],
   "source": [
    "import math\n",
    "import numpy as np\n",
    "import matplotlib.pyplot as plt\n"
   ]
  },
  {
   "attachments": {},
   "cell_type": "markdown",
   "metadata": {},
   "source": [
    "## Calculate Magnetic field at position P"
   ]
  },
  {
   "cell_type": "code",
   "execution_count": 6,
   "metadata": {},
   "outputs": [],
   "source": [
    "\n",
    "def get_B(P):\n",
    "    R = 0.7\n",
    "    A = [0.39, 0.4, 0.5]\n",
    "    P = [0.2, -0.5]\n",
    "    B = [1,0.5,2]\n",
    "    G = [0, -2, 0.3]\n",
    "    \n",
    "    a = A\n",
    "    A = []\n",
    "    curr = 0\n",
    "    for i in range(len(a)):\n",
    "        A.append([curr, curr + float(a[i])])\n",
    "        curr += float(a[i])\n",
    "    \n",
    "    # Step 1: check what point it is\n",
    "    x = P[0]\n",
    "    y = P[1]\n",
    "\n",
    "    # Initialize output\n",
    "    Bout = 0\n",
    "    \n",
    "    # Update output, if needed\n",
    "    for k in range(len(A)):\n",
    "        m1 = math.tan(math.pi/2 - float(A[k][0]))\n",
    "        m2 = math.tan(math.pi/2 - float(A[k][1]))\n",
    "        if y < m1*x - R and y >= m2*x - R:  # if P is in Area k\n",
    "            d = math.sqrt(x**2 + (y-(-R))**2)\n",
    "            h = R - d\n",
    "\n",
    "            Bout = float(B[k])+ float(G[k])*h\n",
    "            break\n",
    "\n",
    "\n",
    "    return Bout"
   ]
  },
  {
   "cell_type": "code",
   "execution_count": 7,
   "metadata": {},
   "outputs": [],
   "source": [
    "\n",
    "B = get_B([0.4, -0.3])\n",
    "\n"
   ]
  },
  {
   "attachments": {},
   "cell_type": "markdown",
   "metadata": {},
   "source": [
    "## Beam Rigidity"
   ]
  },
  {
   "cell_type": "code",
   "execution_count": 8,
   "metadata": {},
   "outputs": [],
   "source": [
    "B_e = 3.3356*0.1"
   ]
  },
  {
   "cell_type": "code",
   "execution_count": 9,
   "metadata": {},
   "outputs": [
    {
     "data": {
      "text/plain": [
       "0.33356"
      ]
     },
     "execution_count": 9,
     "metadata": {},
     "output_type": "execute_result"
    }
   ],
   "source": [
    "B_e"
   ]
  },
  {
   "attachments": {},
   "cell_type": "markdown",
   "metadata": {},
   "source": [
    "## Radius"
   ]
  },
  {
   "cell_type": "code",
   "execution_count": 10,
   "metadata": {},
   "outputs": [
    {
     "data": {
      "text/plain": [
       "-0.9977429190736081"
      ]
     },
     "execution_count": 10,
     "metadata": {},
     "output_type": "execute_result"
    }
   ],
   "source": [
    "R = B_e/B\n",
    "D = [0,1]\n",
    "R"
   ]
  },
  {
   "attachments": {},
   "cell_type": "markdown",
   "metadata": {},
   "source": [
    "## New position"
   ]
  },
  {
   "cell_type": "code",
   "execution_count": 11,
   "metadata": {},
   "outputs": [],
   "source": [
    "def next_point(r, P, d):\n",
    "    R = np.array([[0, 1],\n",
    "            [-1, 0]]) # Defining the rotation matrix in a clockwise direction\n",
    "    s = 0.001\n",
    "    d = np.array(d) # The direction of the point\n",
    "    pc = np.matmul(R, d) # Multiplying the two matrices together to get the vector going from the point to the center\n",
    "\n",
    "    Cx = P[0]+r*pc[0]\n",
    "    Cy = P[1]+r*pc[1]\n",
    "    c = np.array([Cx, Cy])\n",
    "\n",
    "    CP = np.subtract(P, c) # Subtracting the center from the point to find CP\n",
    "    theta = s/r\n",
    "\n",
    "    R = np.array([[np.cos(-theta), -np.sin(-theta)],\n",
    "            [np.sin(theta), np.cos(-theta)]]) # Defining the rotation matrix in a clockwise direction\n",
    "    CP2 = np.matmul(R, CP)\n",
    "    P = np.add(c,CP2) # Adding the distance from the center of the circle with the coordinates of the center to find the coordinates of the new point\n",
    "\n",
    "    counter_R = np.array([[0, -1],\n",
    "            [1, 0]]) # Defining the rotation matrix in a counter-clockwise direction\n",
    "   \n",
    "    D = np.matmul(counter_R, CP2)\n",
    "\n",
    "    return P, D"
   ]
  },
  {
   "cell_type": "code",
   "execution_count": 12,
   "metadata": {},
   "outputs": [],
   "source": [
    "P = [0,0]\n",
    "D = [1,0]\n",
    "\n",
    "points = []\n",
    "for i in range(2):\n",
    "    B = get_B(P)\n",
    "    B_e = 3.3356*0.1 # Beam Rigidity\n",
    "    R = B_e/B # Radius\n",
    "    P, D = next_point(R,P,D)\n",
    "    points.append(P)"
   ]
  },
  {
   "cell_type": "code",
   "execution_count": 13,
   "metadata": {},
   "outputs": [
    {
     "data": {
      "text/plain": [
       "6.283185307179586"
      ]
     },
     "execution_count": 13,
     "metadata": {},
     "output_type": "execute_result"
    }
   ],
   "source": [
    "math.pi*2\n"
   ]
  },
  {
   "cell_type": "code",
   "execution_count": 25,
   "metadata": {},
   "outputs": [
    {
     "name": "stdout",
     "output_type": "stream",
     "text": [
      "[0.5118122956867089, 0.5034740100348146, 0.49507500667772175, 0.48661631904008784, 0.4780989878902044, 0.46952406121193946, 0.46089259407579236, 0.45220564850907624, 0.44346429336524495, 0.4346696041923798] \n",
      " [-1.6504534543265998, -1.6559735962664939, -1.6614009084241559, -1.6667347230158063, -1.6719743837617314, -1.6771192459670332, -1.6821686766009538, -1.6871220543747638, -1.6919787698182067, -1.6967382253544891]\n"
     ]
    },
    {
     "data": {
      "image/png": "[encoded data removed]",
      "text/plain": [
       "<Figure size 640x480 with 1 Axes>"
      ]
     },
     "metadata": {},
     "output_type": "display_data"
    }
   ],
   "source": [
    "#R = 0.5\n",
    "A = [[0, 0.39], [0.39, math.pi+0.01], [math.pi+0.01, math.pi*2]]\n",
    "#P = [-0.2,0]\n",
    "#B = [0.6, 0.4, 0.5]\n",
    "#G = [2.0,  -2.0, 1.0]\n",
    "B = 3*[0.37]\n",
    "G = 3*[0]\n",
    "\n",
    "def get_B(R, A, B, G, P):\n",
    "    # Step 1: check what point it is\n",
    "    x = P[0]\n",
    "    y = P[1]\n",
    "\n",
    "    # Initialize output\n",
    "    Bout = 0\n",
    "    # Update output, if needed\n",
    "\n",
    "    for k in range(len(A)):\n",
    "        \n",
    "        m1 = math.tan(math.pi/2 - float(A[k][0]))\n",
    "        m2 = math.tan(math.pi/2 - float(A[k][1]))\n",
    "        \n",
    "        if y < m1*x - R and y >= m2*x - R:  # if P is in Area k\n",
    "\n",
    "            d = math.sqrt(x**2 + (y-(-R))**2)\n",
    "            h = R - d\n",
    "            Bout = float(B[k]) + float(G[k])*h\n",
    "            break\n",
    "\n",
    " \n",
    "    return Bout\n",
    "\n",
    "\n",
    "\n",
    "def rot_matrix(alpha):\n",
    "    R = np.array([[np.cos(alpha), -np.sin(alpha)],\n",
    "        [np.sin(alpha), np.cos(alpha)]]) # Defining the rotation matrix in a clockwise direction\n",
    "    return R\n",
    "\n",
    "\n",
    "def next_point(r, P, D):\n",
    "    \n",
    "    s = 0.01\n",
    "\n",
    "   \n",
    "    pc = np.matmul(rot_matrix(-math.pi/2), D) # Multiplying the two matrices together to get the vector going from the point to the center\n",
    "    pc = r *pc \n",
    "\n",
    "    Cx = P[0]+pc[0]\n",
    "    Cy = P[1]+pc[1]\n",
    "    c = np.array([Cx, Cy])\n",
    "   \n",
    "    CP = np.subtract(P, c) # Subtracting the center from the point to find CP\n",
    "    theta = s/r\n",
    "  \n",
    "    CP2 = np.matmul(rot_matrix(-theta), CP)\n",
    "    P2 = np.add(c,CP2) # Adding the distance from the center of the circle with the coordinates of the center to find the coordinates of the new point\n",
    "\n",
    "    PC2 = -CP2\n",
    "    D2 = np.matmul(rot_matrix(math.pi/2), PC2)\n",
    "\n",
    "    # Compute the magnitude of the vector\n",
    "    magnitude = np.linalg.norm(D2) \n",
    "    # Normalize the vector\n",
    "    D2 = D2/magnitude  \n",
    "\n",
    "   # D2 = np.array(D2)\n",
    "\n",
    "    return P2, D2   \n",
    "\n",
    "\n",
    "\n",
    "\n",
    "def get_points(R, A, B, G, P, D, size):\n",
    "\n",
    "    # Compute the magnitude of the vector\n",
    "    magnitude = np.linalg.norm(D) \n",
    "    # Normalize the vector\n",
    "    D = D/magnitude  \n",
    "\n",
    "    B_e = 3.3356*0.1 # Beam Rigidity\n",
    "    s = 0.01\n",
    "\n",
    "    points = []\n",
    "    for i in range(int(size)):\n",
    "        Bout = get_B(R, A, B, G, P)\n",
    "        \n",
    "        if Bout != 0:\n",
    "            R = B_e/Bout # Radius\n",
    "            P, D = next_point(R,P,D)\n",
    "        else:\n",
    "            P2 = s*D\n",
    "            P = np.add(P, P2)\n",
    "        points.append(P)\n",
    "\n",
    "     \n",
    "\n",
    "    #print(str.format('{0:.15f}', P))\n",
    "    # Splitting the data into x and y coordinates for plotting\n",
    "    x = [point[0] for point in points]\n",
    "    y = [point[1] for point in points]\n",
    "\n",
    "    plt.plot(x,y)\n",
    "    \n",
    "    print(x[-10:], '\\n', y[-10:])\n",
    "\n",
    "    \n",
    "\n",
    "    return\n",
    "\n",
    "\n",
    "\n",
    "get_points(0.7, A, B, G, [-0.1,0], [1,0], 250)"
   ]
  },
  {
   "cell_type": "code",
   "execution_count": null,
   "metadata": {},
   "outputs": [],
   "source": []
  },
  {
   "cell_type": "markdown",
   "metadata": {},
   "source": [
    "## Making a normal distribution of particles"
   ]
  },
  {
   "cell_type": "code",
   "execution_count": 16,
   "metadata": {},
   "outputs": [],
   "source": [
    "import numpy as np\n",
    "\n",
    "# list of initial directions and initial positions\n",
    "directions = np.array([(1, 0), (2, 1), (0, 1)])\n",
    "\n",
    "\n",
    "ref_direction = np.array([1.0, 0.0]) \n",
    "ref_position = np.array([0.0, 0.0])  # x-axis\n",
    "sigma = 0.01\n"
   ]
  },
  {
   "cell_type": "code",
   "execution_count": 17,
   "metadata": {},
   "outputs": [],
   "source": [
    "ref_position_x = 0\n",
    "ref_position_y = 0"
   ]
  },
  {
   "cell_type": "code",
   "execution_count": 24,
   "metadata": {},
   "outputs": [
    {
     "data": {
      "text/plain": [
       "array([-0.0180136 ,  0.00174999,  0.00684139])"
      ]
     },
     "execution_count": 24,
     "metadata": {},
     "output_type": "execute_result"
    }
   ],
   "source": [
    "mu, sigma = ref_position_x, sigma # mean and standard deviation\n",
    "s = np.random.normal(mu, sigma, 3)\n",
    "s"
   ]
  },
  {
   "cell_type": "code",
   "execution_count": 27,
   "metadata": {},
   "outputs": [
    {
     "name": "stdout",
     "output_type": "stream",
     "text": [
      "[0.7543013897587362, 0.7597650402643212, 0.7651354526678706, 0.7704119661866269, 0.7755939315912773, 0.7806807112858364, 0.7856716793860963, 0.7905662217966363, 0.7953637362863821, 0.8000636325627053] \n",
      " [-0.4227889826573602, -0.4311643929638456, -0.43959989207563294, -0.448094442077578, -0.4566469977888358, -0.4652565068914608, -0.4739219100598859, -0.48264214109126274, -0.49141612703664933, -0.5002427883330267]\n",
      "[0.8728703783169969, 0.8813887137303751, 0.8898484236814607, 0.8982484672761752, 0.906587810961869, 0.9148654286544906, 0.9230803018648378, 0.9312314198238738, 0.9393177796070934, 0.9473383862579247] \n",
      " [-0.03403761769733582, -0.039275645611956844, -0.04460783861227724, -0.05003354061810639, -0.05555208404377976, -0.061162789880299884, -0.06686496777888229, -0.07265791613589745, -0.07854092217919617, -0.084513262055811]\n",
      "[0.42842767718459124, 0.4369222271865363, 0.4454747828977941, 0.4540842920004191, 0.4627496951688442, 0.47146992620022105, 0.48024391214560763, 0.489070573441985, 0.4979488240450882, 0.5068775715630347] \n",
      " [0.7699904382454408, 0.775266951764197, 0.7804489171688475, 0.7855356968634065, 0.7905266649636664, 0.7954212073742064, 0.8002187218639523, 0.8049186181402754, 0.8095203179216236, 0.8140232550086731]\n"
     ]
    },
    {
     "data": {
      "image/png": "[encoded data removed]",
      "text/plain": [
       "<Figure size 640x480 with 1 Axes>"
      ]
     },
     "metadata": {},
     "output_type": "display_data"
    }
   ],
   "source": [
    "for i in range(3):\n",
    "    get_points(0.5, A, B, G, [s[i],s[i]], directions[i], 100)"
   ]
  },
  {
   "cell_type": "code",
   "execution_count": null,
   "metadata": {},
   "outputs": [],
   "source": []
  }
 ],
 "metadata": {
  "kernelspec": {
   "display_name": "Python 3",
   "language": "python",
   "name": "python3"
  },
  "language_info": {
   "codemirror_mode": {
    "name": "ipython",
    "version": 3
   },
   "file_extension": ".py",
   "mimetype": "text/x-python",
   "name": "python",
   "nbconvert_exporter": "python",
   "pygments_lexer": "ipython3",
   "version": "3.11.4"
  },
  "orig_nbformat": 4
 },
 "nbformat": 4,
 "nbformat_minor": 2
}

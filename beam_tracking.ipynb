{
 "cells": [
  {
   "cell_type": "code",
   "execution_count": 2,
   "metadata": {},
   "outputs": [],
   "source": [
    "import math\n",
    "import numpy as np\n",
    "import matplotlib.pyplot as plt\n"
   ]
  },
  {
   "attachments": {},
   "cell_type": "markdown",
   "metadata": {},
   "source": [
    "## Calculate Magnetic field at position P"
   ]
  },
  {
   "cell_type": "code",
   "execution_count": 6,
   "metadata": {},
   "outputs": [],
   "source": [
    "\n",
    "def get_B(P):\n",
    "    R = 0.7\n",
    "    A = [0.39, 0.4, 0.5]\n",
    "    P = [0.2, -0.5]\n",
    "    B = [1,0.5,2]\n",
    "    G = [0, -2, 0.3]\n",
    "    \n",
    "    a = A\n",
    "    A = []\n",
    "    curr = 0\n",
    "    for i in range(len(a)):\n",
    "        A.append([curr, curr + float(a[i])])\n",
    "        curr += float(a[i])\n",
    "    \n",
    "    # Step 1: check what point it is\n",
    "    x = P[0]\n",
    "    y = P[1]\n",
    "\n",
    "    # Initialize output\n",
    "    Bout = 0\n",
    "    \n",
    "    # Update output, if needed\n",
    "    for k in range(len(A)):\n",
    "        m1 = math.tan(math.pi/2 - float(A[k][0]))\n",
    "        m2 = math.tan(math.pi/2 - float(A[k][1]))\n",
    "        if y < m1*x - R and y >= m2*x - R:  # if P is in Area k\n",
    "            d = math.sqrt(x**2 + (y-(-R))**2)\n",
    "            h = R - d\n",
    "\n",
    "            Bout = float(B[k])+ float(G[k])*h\n",
    "            break\n",
    "\n",
    "\n",
    "    return Bout"
   ]
  },
  {
   "cell_type": "code",
   "execution_count": 7,
   "metadata": {},
   "outputs": [],
   "source": [
    "\n",
    "B = get_B([0.4, -0.3])\n",
    "\n"
   ]
  },
  {
   "attachments": {},
   "cell_type": "markdown",
   "metadata": {},
   "source": [
    "## Beam Rigidity"
   ]
  },
  {
   "cell_type": "code",
   "execution_count": 8,
   "metadata": {},
   "outputs": [],
   "source": [
    "B_e = 3.3356*0.1"
   ]
  },
  {
   "cell_type": "code",
   "execution_count": 9,
   "metadata": {},
   "outputs": [
    {
     "data": {
      "text/plain": [
       "0.33356"
      ]
     },
     "execution_count": 9,
     "metadata": {},
     "output_type": "execute_result"
    }
   ],
   "source": [
    "B_e"
   ]
  },
  {
   "attachments": {},
   "cell_type": "markdown",
   "metadata": {},
   "source": [
    "## Radius"
   ]
  },
  {
   "cell_type": "code",
   "execution_count": 10,
   "metadata": {},
   "outputs": [
    {
     "data": {
      "text/plain": [
       "-0.9977429190736081"
      ]
     },
     "execution_count": 10,
     "metadata": {},
     "output_type": "execute_result"
    }
   ],
   "source": [
    "R = B_e/B\n",
    "D = [0,1]\n",
    "R"
   ]
  },
  {
   "attachments": {},
   "cell_type": "markdown",
   "metadata": {},
   "source": [
    "## New position"
   ]
  },
  {
   "cell_type": "code",
   "execution_count": 11,
   "metadata": {},
   "outputs": [],
   "source": [
    "def next_point(r, P, d):\n",
    "    R = np.array([[0, 1],\n",
    "            [-1, 0]]) # Defining the rotation matrix in a clockwise direction\n",
    "    s = 0.001\n",
    "    d = np.array(d) # The direction of the point\n",
    "    pc = np.matmul(R, d) # Multiplying the two matrices together to get the vector going from the point to the center\n",
    "\n",
    "    Cx = P[0]+r*pc[0]\n",
    "    Cy = P[1]+r*pc[1]\n",
    "    c = np.array([Cx, Cy])\n",
    "\n",
    "    CP = np.subtract(P, c) # Subtracting the center from the point to find CP\n",
    "    theta = s/r\n",
    "\n",
    "    R = np.array([[np.cos(-theta), -np.sin(-theta)],\n",
    "            [np.sin(theta), np.cos(-theta)]]) # Defining the rotation matrix in a clockwise direction\n",
    "    CP2 = np.matmul(R, CP)\n",
    "    P = np.add(c,CP2) # Adding the distance from the center of the circle with the coordinates of the center to find the coordinates of the new point\n",
    "\n",
    "    counter_R = np.array([[0, -1],\n",
    "            [1, 0]]) # Defining the rotation matrix in a counter-clockwise direction\n",
    "   \n",
    "    D = np.matmul(counter_R, CP2)\n",
    "\n",
    "    return P, D"
   ]
  },
  {
   "cell_type": "code",
   "execution_count": 12,
   "metadata": {},
   "outputs": [],
   "source": [
    "P = [0,0]\n",
    "D = [1,0]\n",
    "\n",
    "points = []\n",
    "for i in range(2):\n",
    "    B = get_B(P)\n",
    "    B_e = 3.3356*0.1 # Beam Rigidity\n",
    "    R = B_e/B # Radius\n",
    "    P, D = next_point(R,P,D)\n",
    "    points.append(P)"
   ]
  },
  {
   "cell_type": "code",
   "execution_count": 13,
   "metadata": {},
   "outputs": [
    {
     "name": "stdout",
     "output_type": "stream",
     "text": [
      "[array([9.99999833e-04, 5.01131052e-07]), array([1.99774158e-03, 1.13109344e-09])]\n"
     ]
    }
   ],
   "source": [
    "print(points)"
   ]
  },
  {
   "cell_type": "code",
   "execution_count": 89,
   "metadata": {},
   "outputs": [
    {
     "data": {
      "image/png": "[encoded data removed]",
      "text/plain": [
       "<Figure size 640x480 with 1 Axes>"
      ]
     },
     "metadata": {},
     "output_type": "display_data"
    }
   ],
   "source": [
    "#points\n",
    "\n",
    "\n",
    "# Split the data into x and y coordinates for plotting\n",
    "x = [point[0] for point in points]\n",
    "y = [point[1] for point in points]\n",
    "\n",
    "# Create the plot\n",
    "plt.scatter(x, y)\n",
    "\n",
    "# Display the plot\n",
    "plt.show()"
   ]
  },
  {
   "cell_type": "code",
   "execution_count": 21,
   "metadata": {},
   "outputs": [
    {
     "name": "stdout",
     "output_type": "stream",
     "text": [
      "Collecting scikit-learn\n",
      "  Downloading scikit_learn-1.3.0-cp311-cp311-macosx_10_9_x86_64.whl (10.1 MB)\n",
      "\u001b[2K     \u001b[90m━━━━━━━━━━━━━━━━━━━━━━━━━━━━━━━━━━━━━━━━\u001b[0m \u001b[32m10.1/10.1 MB\u001b[0m \u001b[31m15.5 MB/s\u001b[0m eta \u001b[36m0:00:00\u001b[0m00:01\u001b[0m0:01\u001b[0m\n",
      "\u001b[?25hRequirement already satisfied: numpy>=1.17.3 in /Library/Frameworks/Python.framework/Versions/3.11/lib/python3.11/site-packages (from scikit-learn) (1.25.1)\n",
      "Collecting scipy>=1.5.0 (from scikit-learn)\n",
      "  Downloading scipy-1.11.1-cp311-cp311-macosx_10_9_x86_64.whl (37.0 MB)\n",
      "\u001b[2K     \u001b[90m━━━━━━━━━━━━━━━━━━━━━━━━━━━━━━━━━━━━━━━━\u001b[0m \u001b[32m37.0/37.0 MB\u001b[0m \u001b[31m14.3 MB/s\u001b[0m eta \u001b[36m0:00:00\u001b[0m00:01\u001b[0m00:01\u001b[0m\n",
      "\u001b[?25hCollecting joblib>=1.1.1 (from scikit-learn)\n",
      "  Downloading joblib-1.3.1-py3-none-any.whl (301 kB)\n",
      "\u001b[2K     \u001b[90m━━━━━━━━━━━━━━━━━━━━━━━━━━━━━━━━━━━━━━\u001b[0m \u001b[32m302.0/302.0 kB\u001b[0m \u001b[31m10.4 MB/s\u001b[0m eta \u001b[36m0:00:00\u001b[0m\n",
      "\u001b[?25hCollecting threadpoolctl>=2.0.0 (from scikit-learn)\n",
      "  Downloading threadpoolctl-3.2.0-py3-none-any.whl (15 kB)\n",
      "Installing collected packages: threadpoolctl, scipy, joblib, scikit-learn\n",
      "Successfully installed joblib-1.3.1 scikit-learn-1.3.0 scipy-1.11.1 threadpoolctl-3.2.0\n",
      "\n",
      "\u001b[1m[\u001b[0m\u001b[34;49mnotice\u001b[0m\u001b[1;39;49m]\u001b[0m\u001b[39;49m A new release of pip is available: \u001b[0m\u001b[31;49m23.1.2\u001b[0m\u001b[39;49m -> \u001b[0m\u001b[32;49m23.2.1\u001b[0m\n",
      "\u001b[1m[\u001b[0m\u001b[34;49mnotice\u001b[0m\u001b[1;39;49m]\u001b[0m\u001b[39;49m To update, run: \u001b[0m\u001b[32;49mpip3 install --upgrade pip\u001b[0m\n"
     ]
    }
   ],
   "source": [
    "!pip3 install -U scikit-learn"
   ]
  },
  {
   "cell_type": "code",
   "execution_count": 32,
   "metadata": {},
   "outputs": [
    {
     "name": "stdout",
     "output_type": "stream",
     "text": [
      "[0.6 0.8]\n"
     ]
    },
    {
     "data": {
      "text/plain": [
       "[array([ 0.0005996, -0.0007997])]"
      ]
     },
     "execution_count": 32,
     "metadata": {},
     "output_type": "execute_result"
    }
   ],
   "source": [
    "\n",
    "\n",
    "def get_B_known_param(P):\n",
    "    R = 0.7\n",
    "    A = [0.39, 0.4, 0.5]\n",
    "    P = [0.2, -0.5]\n",
    "    B = [1,0.5,2]\n",
    "    G = [0, -2, 0.3]\n",
    "    \n",
    "    a = A\n",
    "    A = []\n",
    "    curr = 0\n",
    "    for i in range(len(a)):\n",
    "        A.append([curr, curr + float(a[i])])\n",
    "        curr += float(a[i])\n",
    "    \n",
    "    # Step 1: check what point it is\n",
    "    x = P[0]\n",
    "    y = P[1]\n",
    "\n",
    "    # Initialize output\n",
    "    Bout = 0\n",
    "    \n",
    "    # Update output, if needed\n",
    "    for k in range(len(A)):\n",
    "        m1 = math.tan(math.pi/2 - float(A[k][0]))\n",
    "        m2 = math.tan(math.pi/2 - float(A[k][1]))\n",
    "        if y < m1*x - R and y >= m2*x - R:  # if P is in Area k\n",
    "            d = math.sqrt(x**2 + (y-(-R))**2)\n",
    "            h = R - d\n",
    "\n",
    "            Bout = float(B[k])+ float(G[k])*h\n",
    "            break\n",
    "\n",
    "\n",
    "    return Bout\n",
    "\n",
    "def next_point(r, P, d):\n",
    "    R = np.array([[0, 1],\n",
    "            [-1, 0]]) # Defining the rotation matrix in a clockwise direction\n",
    "    s = 0.001\n",
    "\n",
    "   # d = np.array(d) # The direction of the point\n",
    "    pc = np.matmul(R, d) # Multiplying the two matrices together to get the vector going from the point to the center\n",
    "\n",
    "    Cx = P[0]+r*pc[0]\n",
    "    Cy = P[1]+r*pc[1]\n",
    "    c = np.array([Cx, Cy])\n",
    "\n",
    "    CP = np.subtract(P, c) # Subtracting the center from the point to find CP\n",
    "    theta = s/r\n",
    "\n",
    "    R = np.array([[np.cos(-theta), -np.sin(-theta)],\n",
    "            [np.sin(theta), np.cos(-theta)]]) # Defining the rotation matrix in a clockwise direction\n",
    "    CP2 = np.matmul(R, CP)\n",
    "    P = np.add(c,CP2) # Adding the distance from the center of the circle with the coordinates of the center to find the coordinates of the new point\n",
    "\n",
    "    counter_R = np.array([[0, -1],\n",
    "            [1, 0]]) # Defining the rotation matrix in a counter-clockwise direction\n",
    "\n",
    "    D = np.matmul(counter_R, CP2)\n",
    "\n",
    "    return P, D    \n",
    "\n",
    "\n",
    "def get_points(P, D, size):\n",
    "\n",
    "    # Compute the magnitude (or norm) of the vector\n",
    "    magnitude = np.linalg.norm(D)\n",
    "\n",
    "    # Normalize the vector\n",
    "    D = D/magnitude   \n",
    "    print(D)\n",
    "    points = []\n",
    "    for i in range(size):\n",
    "        B = get_B_known_param(P)\n",
    "        B_e = 3.3356*0.1 # Beam Rigidity\n",
    "        R = B_e/B # Radius\n",
    "        P, D = next_point(R,P,D)\n",
    "        points.append(P)\n",
    "\n",
    "\n",
    "    # Splitting the data into x and y coordinates for plotting\n",
    "    x = [point[0] for point in points]\n",
    "    y = [point[1] for point in points]\n",
    "\n",
    "\n",
    "    return points\n",
    "    # Create the plot\n",
    "# plt.scatter(x, y)\n",
    "\n",
    "    # Display the plot\n",
    "#    plt.show()\n",
    "\n",
    "\n",
    "\n",
    "get_points([0,0], [3,4], 1)"
   ]
  },
  {
   "cell_type": "code",
   "execution_count": null,
   "metadata": {},
   "outputs": [],
   "source": []
  },
  {
   "cell_type": "code",
   "execution_count": null,
   "metadata": {},
   "outputs": [],
   "source": []
  }
 ],
 "metadata": {
  "kernelspec": {
   "display_name": "Python 3",
   "language": "python",
   "name": "python3"
  },
  "language_info": {
   "codemirror_mode": {
    "name": "ipython",
    "version": 3
   },
   "file_extension": ".py",
   "mimetype": "text/x-python",
   "name": "python",
   "nbconvert_exporter": "python",
   "pygments_lexer": "ipython3",
   "version": "3.11.4"
  },
  "orig_nbformat": 4
 },
 "nbformat": 4,
 "nbformat_minor": 2
}

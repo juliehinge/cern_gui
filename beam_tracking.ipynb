{
 "cells": [
  {
   "cell_type": "code",
   "execution_count": 8,
   "metadata": {},
   "outputs": [],
   "source": [
    "import math\n",
    "import numpy as np"
   ]
  },
  {
   "attachments": {},
   "cell_type": "markdown",
   "metadata": {},
   "source": [
    "## Calculate Magnetic field at position P"
   ]
  },
  {
   "cell_type": "code",
   "execution_count": 9,
   "metadata": {},
   "outputs": [],
   "source": [
    "\n",
    "def get_B(P):\n",
    "    R = 0.7\n",
    "    A = [0.39, 0.4, 0.5]\n",
    "    P = [0.2, -0.5]\n",
    "    B = [1,0.5,2]\n",
    "    G = [0, -2, 0.3]\n",
    "    \n",
    "    a = A\n",
    "    A = []\n",
    "    curr = 0\n",
    "    for i in range(len(a)):\n",
    "        A.append([curr, curr + float(a[i])])\n",
    "        curr += float(a[i])\n",
    "    \n",
    "    # Step 1: check what point it is\n",
    "    x = P[0]\n",
    "    y = P[1]\n",
    "\n",
    "    # Initialize output\n",
    "    Bout = 0\n",
    "    \n",
    "    # Update output, if needed\n",
    "    for k in range(len(A)):\n",
    "        m1 = math.tan(math.pi/2 - float(A[k][0]))\n",
    "        m2 = math.tan(math.pi/2 - float(A[k][1]))\n",
    "        if y < m1*x - R and y >= m2*x - R:  # if P is in Area k\n",
    "            d = math.sqrt(x**2 + (y-(-R))**2)\n",
    "            h = R - d\n",
    "\n",
    "            Bout = float(B[k])+ float(G[k])*h\n",
    "            break\n",
    "\n",
    "\n",
    "    return Bout"
   ]
  },
  {
   "cell_type": "code",
   "execution_count": 10,
   "metadata": {},
   "outputs": [],
   "source": [
    "\n",
    "B = 5*[get_B([0.4, -0.3])]\n",
    "\n"
   ]
  },
  {
   "attachments": {},
   "cell_type": "markdown",
   "metadata": {},
   "source": [
    "## Beam Rigidity"
   ]
  },
  {
   "cell_type": "code",
   "execution_count": 50,
   "metadata": {},
   "outputs": [],
   "source": [
    "B_e = np.array(5*[(3.3356 )* 100])"
   ]
  },
  {
   "cell_type": "code",
   "execution_count": 51,
   "metadata": {},
   "outputs": [
    {
     "data": {
      "text/plain": [
       "array([333.56, 333.56, 333.56, 333.56, 333.56])"
      ]
     },
     "execution_count": 51,
     "metadata": {},
     "output_type": "execute_result"
    }
   ],
   "source": [
    "B_e"
   ]
  },
  {
   "attachments": {},
   "cell_type": "markdown",
   "metadata": {},
   "source": [
    "## Radius"
   ]
  },
  {
   "cell_type": "code",
   "execution_count": 52,
   "metadata": {},
   "outputs": [],
   "source": [
    "R = []\n",
    "for i in range(len(B_e)):\n",
    "    R.append(B_e[i] / B[i])\n",
    "\n",
    "R = np.array(R)\n",
    "D = [0,1]\n"
   ]
  },
  {
   "attachments": {},
   "cell_type": "markdown",
   "metadata": {},
   "source": [
    "## New position"
   ]
  },
  {
   "cell_type": "code",
   "execution_count": 53,
   "metadata": {},
   "outputs": [],
   "source": [
    "def next_point(r, P, d):\n",
    "    R = np.array([[0, 1],\n",
    "            [-1, 0]]) # Defining the rotation matrix in a clockwise direction\n",
    "    s = 0.01\n",
    "\n",
    "    d = np.array(d) # The direction of the point\n",
    "    pc = np.matmul(R, d) # Multiplying the two matrices together to get the vector going from the point to the center\n",
    "\n",
    "    Cx = P[0]+r*pc[0]\n",
    "    Cy = P[1]+r*pc[1]\n",
    "    c = np.array([Cx, Cy])\n",
    "\n",
    "    CP = np.subtract(P, c) # Subtracting the center from the point to find CP\n",
    "    theta = s/r\n",
    "\n",
    "    R = np.array([[np.cos(-theta), -np.sin(-theta)],\n",
    "            [np.sin(theta), np.cos(-theta)]]) # Defining the rotation matrix in a clockwise direction\n",
    "    CP2 = np.matmul(R, CP)\n",
    "    P = np.add(c,CP2)\n",
    "\n",
    "    return P"
   ]
  },
  {
   "cell_type": "code",
   "execution_count": 55,
   "metadata": {},
   "outputs": [
    {
     "name": "stdout",
     "output_type": "stream",
     "text": [
      "[1.00000000e-02 5.01131581e-08]\n",
      "[2.00000000e-02 1.00226316e-07]\n",
      "[3.00000000e-02 1.50339474e-07]\n",
      "[4.00000000e-02 2.00452632e-07]\n",
      "[5.0000000e-02 2.5056579e-07]\n",
      "[6.00000000e-02 3.00678948e-07]\n",
      "[7.00000000e-02 3.50792106e-07]\n",
      "[8.00000000e-02 4.00905265e-07]\n",
      "[9.00000000e-02 4.51018423e-07]\n",
      "[1.00000000e-01 5.01131581e-07]\n",
      "[1.10000000e-01 5.51244739e-07]\n",
      "[1.20000000e-01 6.01357897e-07]\n",
      "[1.30000000e-01 6.51471055e-07]\n",
      "[1.40000000e-01 7.01584213e-07]\n",
      "[1.50000000e-01 7.51697371e-07]\n",
      "[1.60000000e-01 8.01810529e-07]\n",
      "[1.70000000e-01 8.51923687e-07]\n",
      "[1.80000000e-01 9.02036845e-07]\n",
      "[1.90000000e-01 9.52150003e-07]\n",
      "[2.00000000e-01 1.00226316e-06]\n",
      "[2.10000000e-01 1.05237632e-06]\n",
      "[2.20000000e-01 1.10248948e-06]\n",
      "[2.30000000e-01 1.15260264e-06]\n",
      "[2.40000000e-01 1.20271579e-06]\n",
      "[2.50000000e-01 1.25282895e-06]\n",
      "[2.60000000e-01 1.30294211e-06]\n",
      "[2.70000000e-01 1.35305527e-06]\n",
      "[2.80000000e-01 1.40316843e-06]\n",
      "[2.90000000e-01 1.45328158e-06]\n",
      "[3.00000000e-01 1.50339474e-06]\n",
      "[3.1000000e-01 1.5535079e-06]\n",
      "[3.20000000e-01 1.60362106e-06]\n",
      "[3.30000000e-01 1.65373422e-06]\n",
      "[3.40000000e-01 1.70384737e-06]\n",
      "[3.50000000e-01 1.75396053e-06]\n",
      "[3.60000000e-01 1.80407369e-06]\n",
      "[3.70000000e-01 1.85418685e-06]\n",
      "[3.80000000e-01 1.90430001e-06]\n",
      "[3.90000000e-01 1.95441316e-06]\n",
      "[4.00000000e-01 2.00452632e-06]\n",
      "[4.10000000e-01 2.05463948e-06]\n",
      "[4.20000000e-01 2.10475264e-06]\n",
      "[4.3000000e-01 2.1548658e-06]\n",
      "[4.40000000e-01 2.20497895e-06]\n",
      "[4.50000000e-01 2.25509211e-06]\n",
      "[4.60000000e-01 2.30520527e-06]\n",
      "[4.70000000e-01 2.35531843e-06]\n",
      "[4.80000000e-01 2.40543159e-06]\n",
      "[4.90000000e-01 2.45554475e-06]\n",
      "[5.0000000e-01 2.5056579e-06]\n"
     ]
    }
   ],
   "source": [
    "P = [0,0]\n",
    "for i in range(50):\n",
    "    D = [1,0]\n",
    "    R = B_e[0]/get_B(P)\n",
    "    P = next_point(R,P, D)\n",
    "\n",
    "    print(P)"
   ]
  },
  {
   "cell_type": "code",
   "execution_count": null,
   "metadata": {},
   "outputs": [],
   "source": []
  }
 ],
 "metadata": {
  "kernelspec": {
   "display_name": "Python 3",
   "language": "python",
   "name": "python3"
  },
  "language_info": {
   "codemirror_mode": {
    "name": "ipython",
    "version": 3
   },
   "file_extension": ".py",
   "mimetype": "text/x-python",
   "name": "python",
   "nbconvert_exporter": "python",
   "pygments_lexer": "ipython3",
   "version": "3.11.4"
  },
  "orig_nbformat": 4
 },
 "nbformat": 4,
 "nbformat_minor": 2
}

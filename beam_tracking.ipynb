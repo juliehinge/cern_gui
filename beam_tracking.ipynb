{
 "cells": [
  {
   "cell_type": "code",
   "execution_count": 6,
   "metadata": {},
   "outputs": [],
   "source": [
    "import math"
   ]
  },
  {
   "attachments": {},
   "cell_type": "markdown",
   "metadata": {},
   "source": [
    "## Calculate Magnetic field at position P"
   ]
  },
  {
   "cell_type": "code",
   "execution_count": 36,
   "metadata": {},
   "outputs": [],
   "source": [
    "\n",
    "def get_B(P):\n",
    "    R = 0.7\n",
    "    A = [0.39, 0.4, 0.5]\n",
    "    P = [0.2, -0.5]\n",
    "    B = [1,0.5,2]\n",
    "    G = [0, -2, 0.3]\n",
    "    \n",
    "    a = A\n",
    "    A = []\n",
    "    curr = 0\n",
    "    for i in range(len(a)):\n",
    "        A.append([curr, curr + float(a[i])])\n",
    "        curr += float(a[i])\n",
    "    \n",
    "    # Step 1: check what point it is\n",
    "    x = P[0]\n",
    "    y = P[1]\n",
    "\n",
    "    # Initialize output\n",
    "    Bout = 0\n",
    "    \n",
    "    # Update output, if needed\n",
    "    for k in range(len(A)):\n",
    "        m1 = math.tan(math.pi/2 - float(A[k][0]))\n",
    "        m2 = math.tan(math.pi/2 - float(A[k][1]))\n",
    "        if y < m1*x - R and y >= m2*x - R:  # if P is in Area k\n",
    "            d = math.sqrt(x**2 + (y-(-R))**2)\n",
    "            h = R - d\n",
    "\n",
    "            Bout = float(B[k])+ float(G[k])*h\n",
    "            break\n",
    "\n",
    "\n",
    "    return Bout"
   ]
  },
  {
   "cell_type": "code",
   "execution_count": 70,
   "metadata": {},
   "outputs": [
    {
     "data": {
      "text/plain": [
       "[-0.3343145750507619,\n",
       " -0.3343145750507619,\n",
       " -0.3343145750507619,\n",
       " -0.3343145750507619,\n",
       " -0.3343145750507619]"
      ]
     },
     "execution_count": 70,
     "metadata": {},
     "output_type": "execute_result"
    }
   ],
   "source": [
    "\n",
    "B = 5*[get_B([0.4, -0.3])]\n",
    "B\n"
   ]
  },
  {
   "attachments": {},
   "cell_type": "markdown",
   "metadata": {},
   "source": [
    "## Beam Rigidity"
   ]
  },
  {
   "cell_type": "code",
   "execution_count": 42,
   "metadata": {},
   "outputs": [],
   "source": [
    "B_e = 5*[3.3356 * 100]"
   ]
  },
  {
   "cell_type": "code",
   "execution_count": 48,
   "metadata": {},
   "outputs": [
    {
     "data": {
      "text/plain": [
       "[333.56, 333.56, 333.56, 333.56, 333.56]"
      ]
     },
     "execution_count": 48,
     "metadata": {},
     "output_type": "execute_result"
    }
   ],
   "source": [
    "B_e"
   ]
  },
  {
   "attachments": {},
   "cell_type": "markdown",
   "metadata": {},
   "source": [
    "## Radius"
   ]
  },
  {
   "cell_type": "code",
   "execution_count": 51,
   "metadata": {},
   "outputs": [],
   "source": [
    "R = []\n",
    "for i in range(len(B_e)):\n",
    "    R.append(B_e[i] / B[i])\n",
    "R = R[0] "
   ]
  },
  {
   "attachments": {},
   "cell_type": "markdown",
   "metadata": {},
   "source": [
    "## New position"
   ]
  },
  {
   "cell_type": "code",
   "execution_count": null,
   "metadata": {},
   "outputs": [],
   "source": [
    "R = [[]]"
   ]
  },
  {
   "cell_type": "code",
   "execution_count": 81,
   "metadata": {},
   "outputs": [
    {
     "data": {
      "text/plain": [
       "0.8939966636005579"
      ]
     },
     "execution_count": 81,
     "metadata": {},
     "output_type": "execute_result"
    }
   ],
   "source": [
    "math.sin(90)"
   ]
  },
  {
   "cell_type": "code",
   "execution_count": 82,
   "metadata": {},
   "outputs": [
    {
     "data": {
      "text/plain": [
       "-4.999958333473664e-05"
      ]
     },
     "execution_count": 82,
     "metadata": {},
     "output_type": "execute_result"
    }
   ],
   "source": [
    "-1+math.cos(-0.01)"
   ]
  },
  {
   "cell_type": "code",
   "execution_count": 83,
   "metadata": {},
   "outputs": [],
   "source": [
    "import numpy as np"
   ]
  },
  {
   "cell_type": "code",
   "execution_count": 87,
   "metadata": {},
   "outputs": [
    {
     "data": {
      "text/plain": [
       "array([0.00999983, 0.99995   ])"
      ]
     },
     "execution_count": 87,
     "metadata": {},
     "output_type": "execute_result"
    }
   ],
   "source": [
    "CP2 = np.array([[math.cos(-0.01), -math.sin(-0.01)],\n",
    "              [math.sin(-0.01), math.cos(-0.01)]])\n",
    "\n",
    "D = np.array([0, 1])\n",
    "np.matmul(CP2, D)\n"
   ]
  },
  {
   "cell_type": "code",
   "execution_count": 88,
   "metadata": {},
   "outputs": [
    {
     "data": {
      "text/plain": [
       "array([ 0, -1])"
      ]
     },
     "execution_count": 88,
     "metadata": {},
     "output_type": "execute_result"
    }
   ],
   "source": [
    "a = np.array([[0, 1],\n",
    "              [-1, 0]])\n",
    "\n",
    "D = np.array([1, 0])\n",
    "np.matmul(a, D)"
   ]
  },
  {
   "cell_type": "code",
   "execution_count": 94,
   "metadata": {},
   "outputs": [
    {
     "name": "stdout",
     "output_type": "stream",
     "text": [
      "[ 0.00999983 -1.00005   ]\n"
     ]
    }
   ],
   "source": [
    "import numpy as np\n",
    "import math\n",
    "\n",
    "CP2 = np.array([[-math.sin(-0.01)], [-1 + math.cos(-0.01)]])\n",
    "D = np.array([0, -1])\n",
    "\n",
    "result = np.add(D, CP2.flatten())\n",
    "print(result)"
   ]
  },
  {
   "cell_type": "code",
   "execution_count": null,
   "metadata": {},
   "outputs": [],
   "source": []
  },
  {
   "cell_type": "code",
   "execution_count": null,
   "metadata": {},
   "outputs": [],
   "source": []
  }
 ],
 "metadata": {
  "kernelspec": {
   "display_name": "Python 3",
   "language": "python",
   "name": "python3"
  },
  "language_info": {
   "codemirror_mode": {
    "name": "ipython",
    "version": 3
   },
   "file_extension": ".py",
   "mimetype": "text/x-python",
   "name": "python",
   "nbconvert_exporter": "python",
   "pygments_lexer": "ipython3",
   "version": "3.11.4"
  },
  "orig_nbformat": 4
 },
 "nbformat": 4,
 "nbformat_minor": 2
}

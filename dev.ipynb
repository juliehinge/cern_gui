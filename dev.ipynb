{
 "cells": [
  {
   "attachments": {},
   "cell_type": "markdown",
   "metadata": {},
   "source": [
    "This notebook is just here for my convenience to test my code without having to always open a new windon"
   ]
  },
  {
   "cell_type": "code",
   "execution_count": 14,
   "metadata": {},
   "outputs": [],
   "source": [
    "import pandas as pd\n",
    "df = pd.read_csv(\"test - Sheet1.csv\")\n",
    "\n"
   ]
  },
  {
   "cell_type": "code",
   "execution_count": 8,
   "metadata": {},
   "outputs": [
    {
     "name": "stdout",
     "output_type": "stream",
     "text": [
      "True\n"
     ]
    }
   ],
   "source": [
    "is_header = not any(cell.isdigit() for cell in df)\n"
   ]
  },
  {
   "cell_type": "code",
   "execution_count": 30,
   "metadata": {},
   "outputs": [],
   "source": [
    "df = pd.read_csv(\"test - Sheet1.csv\")\n",
    "\n",
    "alpha_list = []\n",
    "vector_list = []\n",
    "\n",
    "is_header = not any(cell.isdigit() for cell in df)\n",
    "\n",
    "if is_header:\n",
    "    for (alpha, vector) in df.iloc():\n",
    "        alpha_list.append(alpha); vector_list.append(vector)\n",
    "\n",
    "else:\n",
    "    df = pd.read_csv(\"test - Sheet1.csv\", header=None) \n",
    "    for (alpha, vector) in df.iloc():\n",
    "        alpha_list.append(alpha); vector_list.append(vector)\n",
    "\n",
    "\n"
   ]
  },
  {
   "cell_type": "code",
   "execution_count": 31,
   "metadata": {},
   "outputs": [
    {
     "name": "stdout",
     "output_type": "stream",
     "text": [
      "[3, 4, 2, 34]\n",
      "[23, 4, 32, 12]\n"
     ]
    }
   ],
   "source": [
    "print(alpha_list)\n",
    "print(vector_list)"
   ]
  },
  {
   "cell_type": "code",
   "execution_count": 13,
   "metadata": {},
   "outputs": [
    {
     "data": {
      "text/html": [
       "<div>\n",
       "<style scoped>\n",
       "    .dataframe tbody tr th:only-of-type {\n",
       "        vertical-align: middle;\n",
       "    }\n",
       "\n",
       "    .dataframe tbody tr th {\n",
       "        vertical-align: top;\n",
       "    }\n",
       "\n",
       "    .dataframe thead th {\n",
       "        text-align: right;\n",
       "    }\n",
       "</style>\n",
       "<table border=\"1\" class=\"dataframe\">\n",
       "  <thead>\n",
       "    <tr style=\"text-align: right;\">\n",
       "      <th></th>\n",
       "      <th>hi</th>\n",
       "      <th>you</th>\n",
       "    </tr>\n",
       "  </thead>\n",
       "  <tbody>\n",
       "    <tr>\n",
       "      <th>0</th>\n",
       "      <td>3</td>\n",
       "      <td>23</td>\n",
       "    </tr>\n",
       "    <tr>\n",
       "      <th>1</th>\n",
       "      <td>4</td>\n",
       "      <td>4</td>\n",
       "    </tr>\n",
       "    <tr>\n",
       "      <th>2</th>\n",
       "      <td>2</td>\n",
       "      <td>32</td>\n",
       "    </tr>\n",
       "    <tr>\n",
       "      <th>3</th>\n",
       "      <td>34</td>\n",
       "      <td>12</td>\n",
       "    </tr>\n",
       "  </tbody>\n",
       "</table>\n",
       "</div>"
      ],
      "text/plain": [
       "   hi  you\n",
       "0   3   23\n",
       "1   4    4\n",
       "2   2   32\n",
       "3  34   12"
      ]
     },
     "execution_count": 13,
     "metadata": {},
     "output_type": "execute_result"
    }
   ],
   "source": [
    "df.head()"
   ]
  },
  {
   "cell_type": "code",
   "execution_count": 2,
   "metadata": {},
   "outputs": [],
   "source": [
    "import math\n",
    "\n",
    "R = 0.7\n",
    "A = [[0, math.pi/8], [math.pi/8, 3*math.pi/8], [3*math.pi/8, math.pi/2]]\n",
    "P = [0.2, -0.5]\n",
    "trims = [0.1, math.pi/2-0.1 ]\n",
    "\n"
   ]
  },
  {
   "cell_type": "code",
   "execution_count": 3,
   "metadata": {},
   "outputs": [],
   "source": [
    "X_min = -0.2\n",
    "X_max = R + 0.5\n",
    "Y_min = -R-0.2\n",
    "Y_max = 0.2"
   ]
  },
  {
   "cell_type": "code",
   "execution_count": 4,
   "metadata": {},
   "outputs": [],
   "source": [
    "import numpy as np\n",
    "import matplotlib.pyplot as plt\n"
   ]
  },
  {
   "cell_type": "code",
   "execution_count": 5,
   "metadata": {},
   "outputs": [],
   "source": [
    "\n",
    "li = [[1, 0], [0.5, -2], [2,0.3]]\n",
    "\n",
    "d = dict()\n",
    "\n",
    "\n",
    "for i in range(len(li[0])):\n",
    "    d[i] = []\n",
    "\n",
    "    for j in range(len(li)):\n",
    "        try:\n",
    "            d[i].append(li[j][i])\n",
    "        except IndexError:\n",
    "            d[i].append(0)\n",
    "\n",
    "B = d[0]\n",
    "\n",
    "try:\n",
    "    G = d[1]\n",
    "except KeyError:\n",
    "    G = []\n",
    "    for i in range(len(li)):\n",
    "        G.append(0)\n",
    "\n"
   ]
  },
  {
   "cell_type": "code",
   "execution_count": 41,
   "metadata": {},
   "outputs": [
    {
     "name": "stdout",
     "output_type": "stream",
     "text": [
      "10000\n",
      "10000\n"
     ]
    }
   ],
   "source": [
    "X = np.linspace(X_min, X_max, num=100)\n",
    "Y = np.linspace(Y_min, Y_max, num=100)\n",
    "xx, yy = np.meshgrid(X, Y)\n",
    "\n",
    "#plt.plot(xx, yy, marker='.', color='k', linestyle='none')\n",
    "\n",
    "\n",
    "\n",
    "x_li = []\n",
    "y_li = []\n",
    "mag_field = []\n",
    "\n",
    "for x,y in zip(xx,yy):\n",
    "    for xx,yy in zip(x,y):\n",
    "        x_li.append(round(xx,2))\n",
    "        y_li.append(round(yy,2))\n",
    "        P = xx, yy\n",
    "        mag_field.append(get_B(R, A, B, G, P, trims))\n",
    "\n",
    "\n",
    "#mag_field = []\n",
    "#for i in range(len(x_li)):\n",
    "    \n",
    " #   mag_field.append(get_B(R, A, B, G, P, trims))\n",
    "\n",
    "\n",
    "print(len(mag_field))\n",
    "print(len(x_li))"
   ]
  },
  {
   "cell_type": "code",
   "execution_count": 42,
   "metadata": {},
   "outputs": [
    {
     "data": {
      "text/plain": [
       "10000"
      ]
     },
     "execution_count": 42,
     "metadata": {},
     "output_type": "execute_result"
    }
   ],
   "source": [
    "len(mag_field)"
   ]
  },
  {
   "cell_type": "code",
   "execution_count": 43,
   "metadata": {},
   "outputs": [],
   "source": [
    "import math\n",
    "\n",
    "def get_B(R, A, B, G, P, trims):\n",
    "    # Step 1: check what point it is\n",
    "    x = P[0]\n",
    "    y = P[1]\n",
    "    beta1 = trims[0]\n",
    "    beta2 = trims[1]\n",
    "    left_trim_size = 0.138\n",
    "    right_trim_size = 0.082\n",
    "    \n",
    "    # Initialize output\n",
    "    Bout = 0\n",
    "    \n",
    "    # Update output, if needed\n",
    "    for k in range(len(A)):\n",
    "        m1 = math.tan(math.pi/2 - float(A[k][0]))\n",
    "        m2 = math.tan(math.pi/2 - float(A[k][1]))\n",
    "        \n",
    "        if y < m1*x - R and y >= m2*x - R:  # if P is in Area k\n",
    "            if k != len(A) - 1:  # NOT in the last area (exit area)\n",
    "                d = math.sqrt(x**2 + (y-(-R))**2)\n",
    "                h = R - d\n",
    "                Bout = B[k]+ G[k]*h\n",
    "                break\n",
    "            elif k == len(A) - 1:  # in the last area (exit area)\n",
    "                if y >= math.tan(-beta1)*x + (-R-math.tan(-beta1)*(R-left_trim_size)) and \\\n",
    "                        y >= math.tan(beta2)*x + (-R-math.tan(beta2)*(R+right_trim_size)):  # inside magnet\n",
    "                    d = math.sqrt(x**2 + (y-(-R))**2)\n",
    "                    h = R - d\n",
    "                    Bout = B[k] + G[k]*h\n",
    "                    break\n",
    "    \n",
    "    return Bout\n",
    "\n",
    "#print(get_B(R, A, B, G, P, trims))"
   ]
  },
  {
   "cell_type": "code",
   "execution_count": 44,
   "metadata": {},
   "outputs": [
    {
     "data": {
      "image/png": "[encoded data removed]",
      "text/plain": [
       "<Figure size 1000x700 with 2 Axes>"
      ]
     },
     "metadata": {},
     "output_type": "display_data"
    }
   ],
   "source": [
    "import pandas as pd\n",
    "import seaborn as sns\n",
    "\n",
    "df = pd.DataFrame({\n",
    "\n",
    "    'x': x_li,\n",
    "    'y': y_li,\n",
    "    'values': mag_field\n",
    "})\n",
    "\n",
    "pivot_table = df.pivot(index='y', columns='x', values='values')\n",
    "pivot_table = pivot_table.iloc[::-1] # Reverse the order of rows\n",
    "\n",
    "fig, ax = plt.subplots(figsize=(10,7))\n",
    "sns.heatmap(pivot_table, cbar_kws={'label': 'B[T]'},cmap=\"Reds\", ax=ax)\n",
    "\n",
    "plt.xlabel(\"X position\") \n",
    "plt.ylabel(\"Y position\") \n",
    "\n",
    "a = X_min * min(len(pivot_table.columns), len(pivot_table.index))\n",
    "b = Y_min * min(len(pivot_table.columns), len(pivot_table.index))\n",
    "r = 0.7\n",
    "\n",
    "# Adjust the radius to match the DataFrame indices\n",
    "r_adj = r * min(len(pivot_table.columns), len(pivot_table.index))\n",
    "\n",
    "stepSize = 0.01\n",
    "\n",
    "positions = []\n",
    "t = 0\n",
    "while t < 2 * math.pi:\n",
    "    positions.append((r_adj * math.cos(t) + a, r_adj * math.sin(t) + b))\n",
    "    t += stepSize\n",
    "\n",
    "\n",
    "X = []\n",
    "Y = []\n",
    "for i in positions:\n",
    "    x, y = i\n",
    "    X.append(x)\n",
    "    Y.append(-y)\n",
    "\n",
    "ax.plot(X, Y, color='black')\n",
    "\n",
    "plt.show()"
   ]
  },
  {
   "cell_type": "code",
   "execution_count": 51,
   "metadata": {},
   "outputs": [
    {
     "data": {
      "text/plain": [
       "[[0.6, 2.0], [0.4, -2.0], [0.5, 1.0]]"
      ]
     },
     "execution_count": 51,
     "metadata": {},
     "output_type": "execute_result"
    }
   ],
   "source": [
    "import pandas as pd\n",
    "\n",
    "# Suppose df is your DataFrame\n",
    "df = pd.read_csv(\"test - Sheet1.csv\",header=None)\n",
    "\n",
    "\n",
    "# Extract first column into a list\n",
    "alpha = df.iloc[:, 0].tolist()\n",
    "\n",
    "# Extract remaining columns into a list of lists\n",
    "li = df.iloc[:, 1:].values.tolist()\n",
    "\n",
    "\n",
    "li"
   ]
  },
  {
   "cell_type": "code",
   "execution_count": 52,
   "metadata": {},
   "outputs": [],
   "source": [
    "d = dict()\n",
    "\n",
    "for i in range(len(li[0])):\n",
    "    d[i] = []\n",
    "    for j in range(len(li)):\n",
    "        try:\n",
    "            d[i].append(li[j][i])\n",
    "        except IndexError:\n",
    "            d[i].append(0)\n",
    "\n",
    "B = d[0]\n",
    "\n",
    "try:\n",
    "    G = d[1]\n",
    "except KeyError:\n",
    "    G = []\n",
    "    for i in range(len(li)):\n",
    "        G.append(0)\n",
    "\n"
   ]
  },
  {
   "cell_type": "code",
   "execution_count": 55,
   "metadata": {},
   "outputs": [
    {
     "data": {
      "text/plain": [
       "[0.6, 0.4, 0.5]"
      ]
     },
     "execution_count": 55,
     "metadata": {},
     "output_type": "execute_result"
    }
   ],
   "source": [
    "B"
   ]
  },
  {
   "cell_type": "code",
   "execution_count": 56,
   "metadata": {},
   "outputs": [
    {
     "data": {
      "text/plain": [
       "{0: [0.6, 0.4, 0.5], 1: [2.0, -2.0, 1.0]}"
      ]
     },
     "execution_count": 56,
     "metadata": {},
     "output_type": "execute_result"
    }
   ],
   "source": [
    "d"
   ]
  },
  {
   "cell_type": "code",
   "execution_count": 60,
   "metadata": {},
   "outputs": [
    {
     "name": "stdout",
     "output_type": "stream",
     "text": [
      "[[0.6, 2.0], [0.4, -2.0], [0.5, 1.0]]\n"
     ]
    }
   ],
   "source": [
    "li = [['0.6 2.0'], ['0.4 -2.0'], ['0.5 1.0']]\n",
    "\n",
    "\n",
    "\n",
    "\n",
    "li = [[float(x) for x in s[0].split()] for s in li]\n",
    "\n",
    "print(li)\n",
    "\n"
   ]
  },
  {
   "cell_type": "code",
   "execution_count": null,
   "metadata": {},
   "outputs": [],
   "source": [
    "\n",
    "        l = [[s[0].replace(' ', ',')] for s in li]\n",
    "\n",
    "d = dict()\n",
    "for i in range(len(l[0])):\n",
    "    d[i] = []\n",
    "    for j in range(len(l)):\n",
    "        try:\n",
    "            d[i].append(l[j][i])\n",
    "        except IndexError:\n",
    "            d[i].append(0)\n",
    "\n",
    "B = d[0]\n",
    "\n",
    "try:\n",
    "    G = d[1]\n",
    "except KeyError:\n",
    "    G = []\n",
    "    for i in range(len(l)):\n",
    "        G.append(0)\n"
   ]
  }
 ],
 "metadata": {
  "kernelspec": {
   "display_name": "Python 3",
   "language": "python",
   "name": "python3"
  },
  "language_info": {
   "codemirror_mode": {
    "name": "ipython",
    "version": 3
   },
   "file_extension": ".py",
   "mimetype": "text/x-python",
   "name": "python",
   "nbconvert_exporter": "python",
   "pygments_lexer": "ipython3",
   "version": "3.11.4"
  },
  "orig_nbformat": 4
 },
 "nbformat": 4,
 "nbformat_minor": 2
}
